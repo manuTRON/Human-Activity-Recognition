{
 "cells": [
  {
   "cell_type": "code",
   "execution_count": 0,
   "metadata": {
    "colab": {},
    "colab_type": "code",
    "id": "r7bDk5cxskgN"
   },
   "outputs": [],
   "source": [
    "# Importing Libraries"
   ]
  },
  {
   "cell_type": "code",
   "execution_count": 0,
   "metadata": {
    "colab": {},
    "colab_type": "code",
    "id": "8w9W5PT9skgc"
   },
   "outputs": [],
   "source": [
    "import pandas as pd\n",
    "import numpy as np\n",
    "% matplotlib inline\n",
    "import matplotlib.pyplot as plt"
   ]
  },
  {
   "cell_type": "code",
   "execution_count": 0,
   "metadata": {
    "colab": {},
    "colab_type": "code",
    "id": "H79bzMTJskgt"
   },
   "outputs": [],
   "source": [
    "# Activities are the class labels\n",
    "# It is a 6 class classification\n",
    "ACTIVITIES = {\n",
    "    0: 'WALKING',\n",
    "    1: 'WALKING_UPSTAIRS',\n",
    "    2: 'WALKING_DOWNSTAIRS',\n",
    "    3: 'SITTING',\n",
    "    4: 'STANDING',\n",
    "    5: 'LAYING',\n",
    "}\n",
    "\n",
    "# Utility function to print the confusion matrix\n",
    "def confusion_matrix(Y_true, Y_pred):\n",
    "    Y_true = pd.Series([ACTIVITIES[y] for y in np.argmax(Y_true, axis=1)])\n",
    "    Y_pred = pd.Series([ACTIVITIES[y] for y in np.argmax(Y_pred, axis=1)])\n",
    "\n",
    "    return pd.crosstab(Y_true, Y_pred, rownames=['True'], colnames=['Pred'])"
   ]
  },
  {
   "cell_type": "markdown",
   "metadata": {
    "colab_type": "text",
    "id": "8rdeC9FOskg_"
   },
   "source": [
    "### Data"
   ]
  },
  {
   "cell_type": "code",
   "execution_count": 0,
   "metadata": {
    "colab": {},
    "colab_type": "code",
    "id": "7qojAdSLskhF"
   },
   "outputs": [],
   "source": [
    "# Data directory\n",
    "DATADIR = 'UCI_HAR_Dataset'"
   ]
  },
  {
   "cell_type": "code",
   "execution_count": 0,
   "metadata": {
    "colab": {},
    "colab_type": "code",
    "id": "WNOOY80zskhi"
   },
   "outputs": [],
   "source": [
    "# Raw data signals\n",
    "# Signals are from Accelerometer and Gyroscope\n",
    "# The signals are in x,y,z directions\n",
    "# Sensor signals are filtered to have only body acceleration\n",
    "# excluding the acceleration due to gravity\n",
    "# Triaxial acceleration from the accelerometer is total acceleration\n",
    "SIGNALS = [\n",
    "    \"body_acc_x\",\n",
    "    \"body_acc_y\",\n",
    "    \"body_acc_z\",\n",
    "    \"body_gyro_x\",\n",
    "    \"body_gyro_y\",\n",
    "    \"body_gyro_z\",\n",
    "    \"total_acc_x\",\n",
    "    \"total_acc_y\",\n",
    "    \"total_acc_z\"\n",
    "]"
   ]
  },
  {
   "cell_type": "code",
   "execution_count": 4,
   "metadata": {
    "colab": {
     "base_uri": "https://localhost:8080/",
     "height": 122
    },
    "colab_type": "code",
    "executionInfo": {
     "elapsed": 48394,
     "status": "ok",
     "timestamp": 1557466120015,
     "user": {
      "displayName": "Manas Miglani",
      "photoUrl": "https://lh6.googleusercontent.com/-6D8ZdsvwF6U/AAAAAAAAAAI/AAAAAAAAA-I/1TdJIsnOQmw/s64/photo.jpg",
      "userId": "16411115226447010557"
     },
     "user_tz": -330
    },
    "id": "vs5X-Nc4uqHD",
    "outputId": "a8a80ed5-e850-4237-cab4-64ab9a34f883"
   },
   "outputs": [
    {
     "name": "stdout",
     "output_type": "stream",
     "text": [
      "Go to this URL in a browser: https://accounts.google.com/o/oauth2/auth?client_id=947318989803-6bn6qk8qdgf4n4g3pfee6491hc0brc4i.apps.googleusercontent.com&redirect_uri=urn%3Aietf%3Awg%3Aoauth%3A2.0%3Aoob&scope=email%20https%3A%2F%2Fwww.googleapis.com%2Fauth%2Fdocs.test%20https%3A%2F%2Fwww.googleapis.com%2Fauth%2Fdrive%20https%3A%2F%2Fwww.googleapis.com%2Fauth%2Fdrive.photos.readonly%20https%3A%2F%2Fwww.googleapis.com%2Fauth%2Fpeopleapi.readonly&response_type=code\n",
      "\n",
      "Enter your authorization code:\n",
      "··········\n",
      "Mounted at /content/driver/\n"
     ]
    }
   ],
   "source": [
    "from google.colab import drive\n",
    "drive.mount('/content/driver/')"
   ]
  },
  {
   "cell_type": "code",
   "execution_count": 6,
   "metadata": {
    "colab": {
     "base_uri": "https://localhost:8080/",
     "height": 51
    },
    "colab_type": "code",
    "executionInfo": {
     "elapsed": 22642,
     "status": "ok",
     "timestamp": 1557466122526,
     "user": {
      "displayName": "Manas Miglani",
      "photoUrl": "https://lh6.googleusercontent.com/-6D8ZdsvwF6U/AAAAAAAAAAI/AAAAAAAAA-I/1TdJIsnOQmw/s64/photo.jpg",
      "userId": "16411115226447010557"
     },
     "user_tz": -330
    },
    "id": "PlXf0VXmuy8c",
    "outputId": "0731b418-acb0-46a3-e418-df8158c11b7f"
   },
   "outputs": [
    {
     "name": "stdout",
     "output_type": "stream",
     "text": [
      "Adam_optimization_rp.pdf  important_links_deep_learning.txt\n",
      "final.csv\t\t  UCI_HAR_Dataset\n"
     ]
    }
   ],
   "source": [
    "!ls '/content/driver/My Drive/AI/'"
   ]
  },
  {
   "cell_type": "code",
   "execution_count": 0,
   "metadata": {
    "colab": {},
    "colab_type": "code",
    "id": "_nvO_nAhskhz"
   },
   "outputs": [],
   "source": [
    "# Utility function to read the data from csv file\n",
    "def _read_csv(filename):\n",
    "    return pd.read_csv(filename, delim_whitespace=True, header=None)\n",
    "\n",
    "# Utility function to load the load\n",
    "def load_signals(subset):\n",
    "    signals_data = []\n",
    "\n",
    "    for signal in SIGNALS:\n",
    "        filename = f'/content/driver/My Drive/AI/UCI_HAR_Dataset/{subset}/Inertial Signals/{signal}_{subset}.txt'\n",
    "        signals_data.append(\n",
    "            _read_csv(filename).as_matrix()\n",
    "        ) \n",
    "\n",
    "    # Transpose is used to change the dimensionality of the output,\n",
    "    # aggregating the signals by combination of sample/timestep.\n",
    "    # Resultant shape is (7352 train/2947 test samples, 128 timesteps, 9 signals)\n",
    "    return np.transpose(signals_data, (1, 2, 0))"
   ]
  },
  {
   "cell_type": "code",
   "execution_count": 0,
   "metadata": {
    "colab": {},
    "colab_type": "code",
    "id": "5RQRRLPBskiC"
   },
   "outputs": [],
   "source": [
    "\n",
    "def load_y(subset):\n",
    "    \"\"\"\n",
    "    The objective that we are trying to predict is a integer, from 1 to 6,\n",
    "    that represents a human activity. We return a binary representation of \n",
    "    every sample objective as a 6 bits vector using One Hot Encoding\n",
    "    (https://pandas.pydata.org/pandas-docs/stable/generated/pandas.get_dummies.html)\n",
    "    \"\"\"\n",
    "    filename = f'/content/driver/My Drive/AI/UCI_HAR_Dataset/{subset}/y_{subset}.txt'\n",
    "    y = _read_csv(filename)[0]\n",
    "\n",
    "    return pd.get_dummies(y).as_matrix()"
   ]
  },
  {
   "cell_type": "code",
   "execution_count": 0,
   "metadata": {
    "colab": {},
    "colab_type": "code",
    "id": "HmzjZ73rskiX"
   },
   "outputs": [],
   "source": [
    "def load_data():\n",
    "    \"\"\"\n",
    "    Obtain the dataset from multiple files.\n",
    "    Returns: X_train, X_test, y_train, y_test\n",
    "    \"\"\"\n",
    "    X_train, X_test = load_signals('train'), load_signals('test')\n",
    "    y_train, y_test = load_y('train'), load_y('test')\n",
    "\n",
    "    return X_train, X_test, y_train, y_test"
   ]
  },
  {
   "cell_type": "code",
   "execution_count": 0,
   "metadata": {
    "colab": {},
    "colab_type": "code",
    "id": "Fs3m9GZq0bf6"
   },
   "outputs": [],
   "source": [
    "def plt_dynamic(x, vy, ty, ax, colors=['b']):\n",
    "    print(\"\\n\\nError plot :\")\n",
    "    ax.plot(x, vy, 'b', label=\"Validation Loss\")\n",
    "    ax.plot(x, ty, 'r', label=\"Train Loss\")\n",
    "    plt.legend()\n",
    "    plt.grid()\n",
    "    fig.canvas.draw()"
   ]
  },
  {
   "cell_type": "code",
   "execution_count": 0,
   "metadata": {
    "colab": {},
    "colab_type": "code",
    "id": "soOCswMHski7"
   },
   "outputs": [],
   "source": [
    "# Importing tensorflow\n",
    "np.random.seed(42)\n",
    "import tensorflow as tf\n",
    "tf.set_random_seed(42)"
   ]
  },
  {
   "cell_type": "code",
   "execution_count": 0,
   "metadata": {
    "colab": {},
    "colab_type": "code",
    "id": "xdvtPD4HskjY"
   },
   "outputs": [],
   "source": [
    "# Configuring a session\n",
    "session_conf = tf.ConfigProto(\n",
    "    intra_op_parallelism_threads=1,\n",
    "    inter_op_parallelism_threads=1\n",
    ")"
   ]
  },
  {
   "cell_type": "code",
   "execution_count": 13,
   "metadata": {
    "colab": {
     "base_uri": "https://localhost:8080/",
     "height": 34
    },
    "colab_type": "code",
    "executionInfo": {
     "elapsed": 1447,
     "status": "ok",
     "timestamp": 1557466132018,
     "user": {
      "displayName": "Manas Miglani",
      "photoUrl": "https://lh6.googleusercontent.com/-6D8ZdsvwF6U/AAAAAAAAAAI/AAAAAAAAA-I/1TdJIsnOQmw/s64/photo.jpg",
      "userId": "16411115226447010557"
     },
     "user_tz": -330
    },
    "id": "qD-D8Lkcskju",
    "outputId": "47f8f107-6337-4a65-e6b3-4f5e7b623e7d"
   },
   "outputs": [
    {
     "name": "stderr",
     "output_type": "stream",
     "text": [
      "Using TensorFlow backend.\n"
     ]
    }
   ],
   "source": [
    "# Import Keras\n",
    "from keras import backend as K\n",
    "sess = tf.Session(graph=tf.get_default_graph(), config=session_conf)\n",
    "K.set_session(sess)"
   ]
  },
  {
   "cell_type": "code",
   "execution_count": 0,
   "metadata": {
    "colab": {},
    "colab_type": "code",
    "id": "hOp7vzKeskkH"
   },
   "outputs": [],
   "source": [
    "# Importing libraries\n",
    "from keras.models import Sequential\n",
    "from keras.layers import LSTM\n",
    "from keras.layers.core import Dense, Dropout\n",
    "from keras.layers.normalization import BatchNormalization"
   ]
  },
  {
   "cell_type": "code",
   "execution_count": 0,
   "metadata": {
    "colab": {},
    "colab_type": "code",
    "id": "7WocgULuskkT"
   },
   "outputs": [],
   "source": [
    "# Initializing parameters\n",
    "epochs = 30\n",
    "batch_size = 16\n",
    "n_hidden = 16"
   ]
  },
  {
   "cell_type": "code",
   "execution_count": 0,
   "metadata": {
    "colab": {},
    "colab_type": "code",
    "id": "Axs_kCFCskki"
   },
   "outputs": [],
   "source": [
    "# Utility function to count the number of classes\n",
    "def _count_classes(y):\n",
    "    return len(set([tuple(category) for category in y]))"
   ]
  },
  {
   "cell_type": "code",
   "execution_count": 17,
   "metadata": {
    "colab": {
     "base_uri": "https://localhost:8080/",
     "height": 85
    },
    "colab_type": "code",
    "executionInfo": {
     "elapsed": 16348,
     "status": "ok",
     "timestamp": 1557466156119,
     "user": {
      "displayName": "Manas Miglani",
      "photoUrl": "https://lh6.googleusercontent.com/-6D8ZdsvwF6U/AAAAAAAAAAI/AAAAAAAAA-I/1TdJIsnOQmw/s64/photo.jpg",
      "userId": "16411115226447010557"
     },
     "user_tz": -330
    },
    "id": "r89Vqdd8skk4",
    "outputId": "729196ac-b7da-4d2d-aef5-428265c079e1"
   },
   "outputs": [
    {
     "name": "stderr",
     "output_type": "stream",
     "text": [
      "/usr/local/lib/python3.6/dist-packages/ipykernel_launcher.py:11: FutureWarning: Method .as_matrix will be removed in a future version. Use .values instead.\n",
      "  # This is added back by InteractiveShellApp.init_path()\n",
      "/usr/local/lib/python3.6/dist-packages/ipykernel_launcher.py:12: FutureWarning: Method .as_matrix will be removed in a future version. Use .values instead.\n",
      "  if sys.path[0] == '':\n"
     ]
    }
   ],
   "source": [
    "# Loading the train and test data\n",
    "X_train, X_test, Y_train, Y_test = load_data()"
   ]
  },
  {
   "cell_type": "code",
   "execution_count": 18,
   "metadata": {
    "colab": {
     "base_uri": "https://localhost:8080/",
     "height": 68
    },
    "colab_type": "code",
    "executionInfo": {
     "elapsed": 13485,
     "status": "ok",
     "timestamp": 1557466156122,
     "user": {
      "displayName": "Manas Miglani",
      "photoUrl": "https://lh6.googleusercontent.com/-6D8ZdsvwF6U/AAAAAAAAAAI/AAAAAAAAA-I/1TdJIsnOQmw/s64/photo.jpg",
      "userId": "16411115226447010557"
     },
     "user_tz": -330
    },
    "id": "evB3tejUsklD",
    "outputId": "f4c00767-48df-4110-a9a3-54edffa632f7"
   },
   "outputs": [
    {
     "name": "stdout",
     "output_type": "stream",
     "text": [
      "128\n",
      "9\n",
      "7352\n"
     ]
    }
   ],
   "source": [
    "timesteps = len(X_train[0])\n",
    "input_dim = len(X_train[0][0])\n",
    "n_classes = _count_classes(Y_train)\n",
    "\n",
    "print(timesteps)\n",
    "print(input_dim)\n",
    "print(len(X_train))"
   ]
  },
  {
   "cell_type": "markdown",
   "metadata": {
    "colab_type": "text",
    "id": "i_43O0mVsklY"
   },
   "source": [
    "- Defining the Architecture of LSTM"
   ]
  },
  {
   "cell_type": "markdown",
   "metadata": {
    "colab_type": "text",
    "id": "bDV4EiDx2qcX"
   },
   "source": [
    "### MODEL 1"
   ]
  },
  {
   "cell_type": "code",
   "execution_count": 0,
   "metadata": {
    "colab": {
     "base_uri": "https://localhost:8080/",
     "height": 238
    },
    "colab_type": "code",
    "executionInfo": {
     "elapsed": 3487,
     "status": "ok",
     "timestamp": 1556955021859,
     "user": {
      "displayName": "Manas Miglani",
      "photoUrl": "https://lh6.googleusercontent.com/-6D8ZdsvwF6U/AAAAAAAAAAI/AAAAAAAAA-I/1TdJIsnOQmw/s64/photo.jpg",
      "userId": "16411115226447010557"
     },
     "user_tz": -330
    },
    "id": "YXPIJsaGsklf",
    "outputId": "d67e14a1-0f5a-4f07-be7f-bebdaba9a0f7"
   },
   "outputs": [
    {
     "name": "stdout",
     "output_type": "stream",
     "text": [
      "_________________________________________________________________\n",
      "Layer (type)                 Output Shape              Param #   \n",
      "=================================================================\n",
      "lstm_2 (LSTM)                (None, 16)                1664      \n",
      "_________________________________________________________________\n",
      "dropout_2 (Dropout)          (None, 16)                0         \n",
      "_________________________________________________________________\n",
      "dense_2 (Dense)              (None, 6)                 102       \n",
      "=================================================================\n",
      "Total params: 1,766\n",
      "Trainable params: 1,766\n",
      "Non-trainable params: 0\n",
      "_________________________________________________________________\n"
     ]
    }
   ],
   "source": [
    "# Initiliazing the sequential model\n",
    "model = Sequential()\n",
    "# Configuring the parameters\n",
    "model.add(LSTM(n_hidden, input_shape=(timesteps, input_dim)))\n",
    "# Adding a dropout layer\n",
    "model.add(Dropout(0.5))\n",
    "# Adding a dense output layer with sigmoid activation\n",
    "model.add(Dense(n_classes, activation='sigmoid'))\n",
    "model.summary()"
   ]
  },
  {
   "cell_type": "code",
   "execution_count": 0,
   "metadata": {
    "colab": {},
    "colab_type": "code",
    "id": "3t774OqXskly"
   },
   "outputs": [],
   "source": [
    "# Compiling the model\n",
    "model.compile(loss='categorical_crossentropy',\n",
    "              optimizer='rmsprop',\n",
    "              metrics=['accuracy'])"
   ]
  },
  {
   "cell_type": "code",
   "execution_count": 0,
   "metadata": {
    "colab": {
     "base_uri": "https://localhost:8080/",
     "height": 1125
    },
    "colab_type": "code",
    "executionInfo": {
     "elapsed": 822980,
     "status": "ok",
     "timestamp": 1556955893470,
     "user": {
      "displayName": "Manas Miglani",
      "photoUrl": "https://lh6.googleusercontent.com/-6D8ZdsvwF6U/AAAAAAAAAAI/AAAAAAAAA-I/1TdJIsnOQmw/s64/photo.jpg",
      "userId": "16411115226447010557"
     },
     "user_tz": -330
    },
    "id": "kmvSzEYnskl9",
    "outputId": "a3c7831c-9fb3-4d09-ad65-6992ff9bbeaf"
   },
   "outputs": [
    {
     "name": "stdout",
     "output_type": "stream",
     "text": [
      "WARNING:tensorflow:From /usr/local/lib/python3.6/dist-packages/tensorflow/python/ops/math_ops.py:3066: to_int32 (from tensorflow.python.ops.math_ops) is deprecated and will be removed in a future version.\n",
      "Instructions for updating:\n",
      "Use tf.cast instead.\n",
      "Train on 7352 samples, validate on 2947 samples\n",
      "Epoch 1/30\n",
      "7352/7352 [==============================] - 28s 4ms/step - loss: 1.5192 - acc: 0.3337 - val_loss: 1.4301 - val_acc: 0.4364\n",
      "Epoch 2/30\n",
      "7352/7352 [==============================] - 27s 4ms/step - loss: 1.2675 - acc: 0.4418 - val_loss: 1.2339 - val_acc: 0.5215\n",
      "Epoch 3/30\n",
      "7352/7352 [==============================] - 27s 4ms/step - loss: 1.1197 - acc: 0.5209 - val_loss: 1.0894 - val_acc: 0.5222\n",
      "Epoch 4/30\n",
      "7352/7352 [==============================] - 27s 4ms/step - loss: 1.0205 - acc: 0.5552 - val_loss: 0.9412 - val_acc: 0.6244\n",
      "Epoch 5/30\n",
      "7352/7352 [==============================] - 27s 4ms/step - loss: 0.9244 - acc: 0.6041 - val_loss: 0.9571 - val_acc: 0.5931\n",
      "Epoch 6/30\n",
      "7352/7352 [==============================] - 27s 4ms/step - loss: 0.8567 - acc: 0.6160 - val_loss: 0.8376 - val_acc: 0.6176\n",
      "Epoch 7/30\n",
      "7352/7352 [==============================] - 28s 4ms/step - loss: 0.7879 - acc: 0.6334 - val_loss: 0.8344 - val_acc: 0.6155\n",
      "Epoch 8/30\n",
      "7352/7352 [==============================] - 27s 4ms/step - loss: 0.7520 - acc: 0.6553 - val_loss: 0.8155 - val_acc: 0.6115\n",
      "Epoch 9/30\n",
      "7352/7352 [==============================] - 27s 4ms/step - loss: 0.7256 - acc: 0.6508 - val_loss: 0.7875 - val_acc: 0.6111\n",
      "Epoch 10/30\n",
      "7352/7352 [==============================] - 27s 4ms/step - loss: 0.7114 - acc: 0.6582 - val_loss: 0.7631 - val_acc: 0.6091\n",
      "Epoch 11/30\n",
      "7352/7352 [==============================] - 27s 4ms/step - loss: 0.7195 - acc: 0.6492 - val_loss: 0.8339 - val_acc: 0.6003\n",
      "Epoch 12/30\n",
      "7352/7352 [==============================] - 28s 4ms/step - loss: 0.7032 - acc: 0.6612 - val_loss: 0.7647 - val_acc: 0.6149\n",
      "Epoch 13/30\n",
      "7352/7352 [==============================] - 27s 4ms/step - loss: 0.6928 - acc: 0.6708 - val_loss: 0.7987 - val_acc: 0.6261\n",
      "Epoch 14/30\n",
      "7352/7352 [==============================] - 28s 4ms/step - loss: 0.6874 - acc: 0.6774 - val_loss: 0.7600 - val_acc: 0.6671\n",
      "Epoch 15/30\n",
      "7352/7352 [==============================] - 27s 4ms/step - loss: 0.6629 - acc: 0.6768 - val_loss: 0.7835 - val_acc: 0.6614\n",
      "Epoch 16/30\n",
      "7352/7352 [==============================] - 27s 4ms/step - loss: 0.6910 - acc: 0.6789 - val_loss: 0.7980 - val_acc: 0.6787\n",
      "Epoch 17/30\n",
      "7352/7352 [==============================] - 28s 4ms/step - loss: 0.6664 - acc: 0.6911 - val_loss: 0.8386 - val_acc: 0.6783\n",
      "Epoch 18/30\n",
      "7352/7352 [==============================] - 29s 4ms/step - loss: 0.6498 - acc: 0.7123 - val_loss: 0.8099 - val_acc: 0.7034\n",
      "Epoch 19/30\n",
      "7352/7352 [==============================] - 27s 4ms/step - loss: 0.6654 - acc: 0.7001 - val_loss: 0.7620 - val_acc: 0.6912\n",
      "Epoch 20/30\n",
      "7352/7352 [==============================] - 27s 4ms/step - loss: 0.6317 - acc: 0.7150 - val_loss: 0.7768 - val_acc: 0.6671\n",
      "Epoch 21/30\n",
      "7352/7352 [==============================] - 27s 4ms/step - loss: 0.6193 - acc: 0.7176 - val_loss: 0.7885 - val_acc: 0.6552\n",
      "Epoch 22/30\n",
      "7352/7352 [==============================] - 27s 4ms/step - loss: 0.6064 - acc: 0.7314 - val_loss: 0.7670 - val_acc: 0.7021\n",
      "Epoch 23/30\n",
      "7352/7352 [==============================] - 27s 4ms/step - loss: 0.5885 - acc: 0.7428 - val_loss: 0.7894 - val_acc: 0.6980\n",
      "Epoch 24/30\n",
      "7352/7352 [==============================] - 27s 4ms/step - loss: 0.6165 - acc: 0.7271 - val_loss: 0.6858 - val_acc: 0.7350\n",
      "Epoch 25/30\n",
      "7352/7352 [==============================] - 28s 4ms/step - loss: 0.5731 - acc: 0.7553 - val_loss: 0.7307 - val_acc: 0.7163\n",
      "Epoch 26/30\n",
      "7352/7352 [==============================] - 28s 4ms/step - loss: 0.6045 - acc: 0.7369 - val_loss: 0.7283 - val_acc: 0.7095\n",
      "Epoch 27/30\n",
      "7352/7352 [==============================] - 27s 4ms/step - loss: 0.5287 - acc: 0.7930 - val_loss: 0.6171 - val_acc: 0.7984\n",
      "Epoch 28/30\n",
      "7352/7352 [==============================] - 28s 4ms/step - loss: 0.5381 - acc: 0.7937 - val_loss: 0.6424 - val_acc: 0.8056\n",
      "Epoch 29/30\n",
      "7352/7352 [==============================] - 28s 4ms/step - loss: 0.5084 - acc: 0.8086 - val_loss: 0.6530 - val_acc: 0.7872\n",
      "Epoch 30/30\n",
      "7352/7352 [==============================] - 28s 4ms/step - loss: 0.5383 - acc: 0.7952 - val_loss: 0.6355 - val_acc: 0.8042\n"
     ]
    }
   ],
   "source": [
    "# Training the model\n",
    "history = model.fit(X_train,\n",
    "                    Y_train,\n",
    "                    batch_size=batch_size,\n",
    "                    validation_data=(X_test, Y_test),\n",
    "                    epochs=epochs)"
   ]
  },
  {
   "cell_type": "code",
   "execution_count": 0,
   "metadata": {
    "colab": {
     "base_uri": "https://localhost:8080/",
     "height": 725
    },
    "colab_type": "code",
    "executionInfo": {
     "elapsed": 3204,
     "status": "ok",
     "timestamp": 1556956735335,
     "user": {
      "displayName": "Manas Miglani",
      "photoUrl": "https://lh6.googleusercontent.com/-6D8ZdsvwF6U/AAAAAAAAAAI/AAAAAAAAA-I/1TdJIsnOQmw/s64/photo.jpg",
      "userId": "16411115226447010557"
     },
     "user_tz": -330
    },
    "id": "ZEiXeizCskmu",
    "outputId": "1495da90-6f27-4712-c6ac-6aebad1b8d7f"
   },
   "outputs": [
    {
     "name": "stdout",
     "output_type": "stream",
     "text": [
      "2947/2947 [==============================] - 1s 298us/step\n",
      "score :\n",
      "[0.6354767117544396, 0.8042076688157448]\n",
      "\n",
      "confusion matrix : \n",
      "\n",
      "Pred                LAYING  SITTING  STANDING  WALKING  WALKING_DOWNSTAIRS  \\\n",
      "True                                                                         \n",
      "LAYING                 510        0         0        0                   0   \n",
      "SITTING                  0      411        74        4                   0   \n",
      "STANDING                 0      109       412        8                   1   \n",
      "WALKING                  0        0         0      367                 105   \n",
      "WALKING_DOWNSTAIRS       0        0         0       25                 346   \n",
      "WALKING_UPSTAIRS         0        0         1       68                  78   \n",
      "\n",
      "Pred                WALKING_UPSTAIRS  \n",
      "True                                  \n",
      "LAYING                            27  \n",
      "SITTING                            2  \n",
      "STANDING                           2  \n",
      "WALKING                           24  \n",
      "WALKING_DOWNSTAIRS                49  \n",
      "WALKING_UPSTAIRS                 324  \n",
      "\n",
      "\n",
      "Error plot :\n"
     ]
    },
    {
     "data": {
      "image/png": "[encoded data removed]",
      "text/plain": [
       "<Figure size 432x288 with 1 Axes>"
      ]
     },
     "metadata": {
      "tags": []
     },
     "output_type": "display_data"
    }
   ],
   "source": [
    "score = model.evaluate(X_test, Y_test)\n",
    "print(\"score :\")\n",
    "print(score)\n",
    "\n",
    "# Confusion Matrix\n",
    "print(\"\\nconfusion matrix : \\n\")\n",
    "print(confusion_matrix(Y_test, model.predict(X_test)))\n",
    "\n",
    "fig,ax = plt.subplots(1,1)\n",
    "ax.set_xlabel('epoch') ; ax.set_ylabel(' Crossentropy Loss')\n",
    "\n",
    "# list of epoch numbers\n",
    "x = list(range(1,epochs+1))\n",
    "\n",
    "\n",
    "vy = history.history['val_loss']\n",
    "ty = history.history['loss']\n",
    "plt_dynamic(x, vy, ty, ax)"
   ]
  },
  {
   "cell_type": "markdown",
   "metadata": {
    "colab_type": "text",
    "id": "XrT3NDRs3XnS"
   },
   "source": [
    "### MODEL 2"
   ]
  },
  {
   "cell_type": "code",
   "execution_count": 0,
   "metadata": {
    "colab": {
     "base_uri": "https://localhost:8080/",
     "height": 238
    },
    "colab_type": "code",
    "executionInfo": {
     "elapsed": 1097,
     "status": "ok",
     "timestamp": 1556956942336,
     "user": {
      "displayName": "Manas Miglani",
      "photoUrl": "https://lh6.googleusercontent.com/-6D8ZdsvwF6U/AAAAAAAAAAI/AAAAAAAAA-I/1TdJIsnOQmw/s64/photo.jpg",
      "userId": "16411115226447010557"
     },
     "user_tz": -330
    },
    "id": "nrowlIK12vg1",
    "outputId": "f654854a-18a1-4f66-e673-d23baf689bfd"
   },
   "outputs": [
    {
     "name": "stdout",
     "output_type": "stream",
     "text": [
      "_________________________________________________________________\n",
      "Layer (type)                 Output Shape              Param #   \n",
      "=================================================================\n",
      "lstm_3 (LSTM)                (None, 64)                18944     \n",
      "_________________________________________________________________\n",
      "dropout_3 (Dropout)          (None, 64)                0         \n",
      "_________________________________________________________________\n",
      "dense_3 (Dense)              (None, 6)                 390       \n",
      "=================================================================\n",
      "Total params: 19,334\n",
      "Trainable params: 19,334\n",
      "Non-trainable params: 0\n",
      "_________________________________________________________________\n"
     ]
    }
   ],
   "source": [
    "# Initiliazing the sequential model\n",
    "n_hidden = 64\n",
    "model = Sequential()\n",
    "# Configuring the parameters\n",
    "model.add(LSTM(n_hidden, input_shape=(timesteps, input_dim)))\n",
    "# Adding a dropout layer\n",
    "model.add(Dropout(0.5))\n",
    "# Adding a dense output layer with sigmoid activation\n",
    "model.add(Dense(n_classes, activation='sigmoid'))\n",
    "model.summary()"
   ]
  },
  {
   "cell_type": "code",
   "execution_count": 0,
   "metadata": {
    "colab": {},
    "colab_type": "code",
    "id": "2ulKIc7m3NPy"
   },
   "outputs": [],
   "source": [
    "# Compiling the model\n",
    "model.compile(loss='categorical_crossentropy',\n",
    "              optimizer='rmsprop',\n",
    "              metrics=['accuracy'])"
   ]
  },
  {
   "cell_type": "code",
   "execution_count": 0,
   "metadata": {
    "colab": {
     "base_uri": "https://localhost:8080/",
     "height": 1054
    },
    "colab_type": "code",
    "executionInfo": {
     "elapsed": 1064618,
     "status": "ok",
     "timestamp": 1556958013717,
     "user": {
      "displayName": "Manas Miglani",
      "photoUrl": "https://lh6.googleusercontent.com/-6D8ZdsvwF6U/AAAAAAAAAAI/AAAAAAAAA-I/1TdJIsnOQmw/s64/photo.jpg",
      "userId": "16411115226447010557"
     },
     "user_tz": -330
    },
    "id": "TqfX7qE23WNQ",
    "outputId": "7ad8d60e-6d18-4c93-e07f-72e9cecbe97f"
   },
   "outputs": [
    {
     "name": "stdout",
     "output_type": "stream",
     "text": [
      "Train on 7352 samples, validate on 2947 samples\n",
      "Epoch 1/30\n",
      "7352/7352 [==============================] - 36s 5ms/step - loss: 1.2550 - acc: 0.4520 - val_loss: 1.1046 - val_acc: 0.5314\n",
      "Epoch 2/30\n",
      "7352/7352 [==============================] - 35s 5ms/step - loss: 0.9681 - acc: 0.5822 - val_loss: 0.8536 - val_acc: 0.6230\n",
      "Epoch 3/30\n",
      "7352/7352 [==============================] - 35s 5ms/step - loss: 0.7252 - acc: 0.6866 - val_loss: 1.1604 - val_acc: 0.6091\n",
      "Epoch 4/30\n",
      "7352/7352 [==============================] - 35s 5ms/step - loss: 0.5630 - acc: 0.8005 - val_loss: 0.5614 - val_acc: 0.8134\n",
      "Epoch 5/30\n",
      "7352/7352 [==============================] - 36s 5ms/step - loss: 0.4311 - acc: 0.8645 - val_loss: 0.4468 - val_acc: 0.8524\n",
      "Epoch 6/30\n",
      "7352/7352 [==============================] - 35s 5ms/step - loss: 0.3349 - acc: 0.8904 - val_loss: 0.4545 - val_acc: 0.8605\n",
      "Epoch 7/30\n",
      "7352/7352 [==============================] - 35s 5ms/step - loss: 0.2725 - acc: 0.9120 - val_loss: 0.4657 - val_acc: 0.8453\n",
      "Epoch 8/30\n",
      "7352/7352 [==============================] - 35s 5ms/step - loss: 0.2394 - acc: 0.9218 - val_loss: 1.1548 - val_acc: 0.7428\n",
      "Epoch 9/30\n",
      "7352/7352 [==============================] - 35s 5ms/step - loss: 0.2360 - acc: 0.9199 - val_loss: 0.3237 - val_acc: 0.8867\n",
      "Epoch 10/30\n",
      "7352/7352 [==============================] - 35s 5ms/step - loss: 0.2164 - acc: 0.9263 - val_loss: 0.2537 - val_acc: 0.9067\n",
      "Epoch 11/30\n",
      "7352/7352 [==============================] - 35s 5ms/step - loss: 0.1897 - acc: 0.9344 - val_loss: 0.2934 - val_acc: 0.8935\n",
      "Epoch 12/30\n",
      "7352/7352 [==============================] - 35s 5ms/step - loss: 0.2085 - acc: 0.9324 - val_loss: 0.2299 - val_acc: 0.9108\n",
      "Epoch 13/30\n",
      "7352/7352 [==============================] - 35s 5ms/step - loss: 0.1984 - acc: 0.9327 - val_loss: 0.2882 - val_acc: 0.8907\n",
      "Epoch 14/30\n",
      "7352/7352 [==============================] - 36s 5ms/step - loss: 0.2323 - acc: 0.9282 - val_loss: 0.2971 - val_acc: 0.9084\n",
      "Epoch 15/30\n",
      "7352/7352 [==============================] - 35s 5ms/step - loss: 0.1723 - acc: 0.9404 - val_loss: 0.4212 - val_acc: 0.9016\n",
      "Epoch 16/30\n",
      "7352/7352 [==============================] - 35s 5ms/step - loss: 0.1689 - acc: 0.9419 - val_loss: 0.3516 - val_acc: 0.9016\n",
      "Epoch 17/30\n",
      "7352/7352 [==============================] - 35s 5ms/step - loss: 0.1912 - acc: 0.9396 - val_loss: 0.3061 - val_acc: 0.9135\n",
      "Epoch 18/30\n",
      "7352/7352 [==============================] - 35s 5ms/step - loss: 0.1646 - acc: 0.9455 - val_loss: 0.3382 - val_acc: 0.9094\n",
      "Epoch 19/30\n",
      "7352/7352 [==============================] - 35s 5ms/step - loss: 0.1687 - acc: 0.9416 - val_loss: 0.3250 - val_acc: 0.9084\n",
      "Epoch 20/30\n",
      "7352/7352 [==============================] - 35s 5ms/step - loss: 0.1605 - acc: 0.9426 - val_loss: 0.4936 - val_acc: 0.8931\n",
      "Epoch 21/30\n",
      "7352/7352 [==============================] - 35s 5ms/step - loss: 0.1603 - acc: 0.9456 - val_loss: 0.3859 - val_acc: 0.8924\n",
      "Epoch 22/30\n",
      "7352/7352 [==============================] - 36s 5ms/step - loss: 0.1640 - acc: 0.9408 - val_loss: 0.3922 - val_acc: 0.8843\n",
      "Epoch 23/30\n",
      "7352/7352 [==============================] - 36s 5ms/step - loss: 0.2059 - acc: 0.9358 - val_loss: 0.3285 - val_acc: 0.8968\n",
      "Epoch 24/30\n",
      "7352/7352 [==============================] - 36s 5ms/step - loss: 0.1816 - acc: 0.9380 - val_loss: 0.4170 - val_acc: 0.9043\n",
      "Epoch 25/30\n",
      "7352/7352 [==============================] - 36s 5ms/step - loss: 0.1774 - acc: 0.9415 - val_loss: 0.3667 - val_acc: 0.8982\n",
      "Epoch 26/30\n",
      "7352/7352 [==============================] - 36s 5ms/step - loss: 0.1583 - acc: 0.9455 - val_loss: 0.3961 - val_acc: 0.9104\n",
      "Epoch 27/30\n",
      "7352/7352 [==============================] - 35s 5ms/step - loss: 0.1508 - acc: 0.9478 - val_loss: 0.2998 - val_acc: 0.9013\n",
      "Epoch 28/30\n",
      "7352/7352 [==============================] - 36s 5ms/step - loss: 0.1543 - acc: 0.9482 - val_loss: 0.3259 - val_acc: 0.9152\n",
      "Epoch 29/30\n",
      "7352/7352 [==============================] - 35s 5ms/step - loss: 0.1516 - acc: 0.9452 - val_loss: 0.3578 - val_acc: 0.9108\n",
      "Epoch 30/30\n",
      "7352/7352 [==============================] - 35s 5ms/step - loss: 0.1532 - acc: 0.9489 - val_loss: 0.4561 - val_acc: 0.8962\n"
     ]
    }
   ],
   "source": [
    "# Training the model\n",
    "history = model.fit(X_train,\n",
    "                    Y_train,\n",
    "                    batch_size=batch_size,\n",
    "                    validation_data=(X_test, Y_test),\n",
    "                    epochs=epochs)"
   ]
  },
  {
   "cell_type": "code",
   "execution_count": 0,
   "metadata": {
    "colab": {
     "base_uri": "https://localhost:8080/",
     "height": 725
    },
    "colab_type": "code",
    "executionInfo": {
     "elapsed": 4317,
     "status": "ok",
     "timestamp": 1556958032002,
     "user": {
      "displayName": "Manas Miglani",
      "photoUrl": "https://lh6.googleusercontent.com/-6D8ZdsvwF6U/AAAAAAAAAAI/AAAAAAAAA-I/1TdJIsnOQmw/s64/photo.jpg",
      "userId": "16411115226447010557"
     },
     "user_tz": -330
    },
    "id": "X4cGb7L43khp",
    "outputId": "cd1aeeb0-103c-4ecf-a654-cbb601cdec03"
   },
   "outputs": [
    {
     "name": "stdout",
     "output_type": "stream",
     "text": [
      "2947/2947 [==============================] - 2s 521us/step\n",
      "score :\n",
      "[0.45613155783282117, 0.8961655921275874]\n",
      "\n",
      "confusion matrix : \n",
      "\n",
      "Pred                LAYING  SITTING  STANDING  WALKING  WALKING_DOWNSTAIRS  \\\n",
      "True                                                                         \n",
      "LAYING                 510        0        27        0                   0   \n",
      "SITTING                  0      441        47        0                   1   \n",
      "STANDING                 0      164       368        0                   0   \n",
      "WALKING                  0        3         0      439                  35   \n",
      "WALKING_DOWNSTAIRS       0        0         0        1                 416   \n",
      "WALKING_UPSTAIRS         0        1         1        1                   1   \n",
      "\n",
      "Pred                WALKING_UPSTAIRS  \n",
      "True                                  \n",
      "LAYING                             0  \n",
      "SITTING                            2  \n",
      "STANDING                           0  \n",
      "WALKING                           19  \n",
      "WALKING_DOWNSTAIRS                 3  \n",
      "WALKING_UPSTAIRS                 467  \n",
      "\n",
      "\n",
      "Error plot :\n"
     ]
    },
    {
     "data": {
      "image/png": "[encoded data removed]",
      "text/plain": [
       "<Figure size 432x288 with 1 Axes>"
      ]
     },
     "metadata": {
      "tags": []
     },
     "output_type": "display_data"
    }
   ],
   "source": [
    "score = model.evaluate(X_test, Y_test)\n",
    "print(\"score :\")\n",
    "print(score)\n",
    "\n",
    "# Confusion Matrix\n",
    "print(\"\\nconfusion matrix : \\n\")\n",
    "print(confusion_matrix(Y_test, model.predict(X_test)))\n",
    "\n",
    "fig,ax = plt.subplots(1,1)\n",
    "ax.set_xlabel('epoch') ; ax.set_ylabel(' Crossentropy Loss')\n",
    "\n",
    "# list of epoch numbers\n",
    "x = list(range(1,epochs+1))\n",
    "\n",
    "\n",
    "vy = history.history['val_loss']\n",
    "ty = history.history['loss']\n",
    "plt_dynamic(x, vy, ty, ax)"
   ]
  },
  {
   "cell_type": "markdown",
   "metadata": {
    "colab_type": "text",
    "id": "BSHiJRXp7_Bf"
   },
   "source": [
    "### MODEL 3"
   ]
  },
  {
   "cell_type": "code",
   "execution_count": 0,
   "metadata": {
    "colab": {
     "base_uri": "https://localhost:8080/",
     "height": 428
    },
    "colab_type": "code",
    "executionInfo": {
     "elapsed": 1708,
     "status": "ok",
     "timestamp": 1556973651898,
     "user": {
      "displayName": "Manas Miglani",
      "photoUrl": "https://lh6.googleusercontent.com/-6D8ZdsvwF6U/AAAAAAAAAAI/AAAAAAAAA-I/1TdJIsnOQmw/s64/photo.jpg",
      "userId": "16411115226447010557"
     },
     "user_tz": -330
    },
    "id": "14NOxETa7ufj",
    "outputId": "ab687484-b71e-4057-f8bd-5275bbe24f7f"
   },
   "outputs": [
    {
     "name": "stdout",
     "output_type": "stream",
     "text": [
      "WARNING:tensorflow:From /usr/local/lib/python3.6/dist-packages/tensorflow/python/framework/op_def_library.py:263: colocate_with (from tensorflow.python.framework.ops) is deprecated and will be removed in a future version.\n",
      "Instructions for updating:\n",
      "Colocations handled automatically by placer.\n",
      "WARNING:tensorflow:From /usr/local/lib/python3.6/dist-packages/keras/backend/tensorflow_backend.py:3445: calling dropout (from tensorflow.python.ops.nn_ops) with keep_prob is deprecated and will be removed in a future version.\n",
      "Instructions for updating:\n",
      "Please use `rate` instead of `keep_prob`. Rate should be set to `rate = 1 - keep_prob`.\n",
      "_________________________________________________________________\n",
      "Layer (type)                 Output Shape              Param #   \n",
      "=================================================================\n",
      "lstm_1 (LSTM)                (None, 128, 64)           18944     \n",
      "_________________________________________________________________\n",
      "dropout_1 (Dropout)          (None, 128, 64)           0         \n",
      "_________________________________________________________________\n",
      "lstm_2 (LSTM)                (None, 32)                12416     \n",
      "_________________________________________________________________\n",
      "dropout_2 (Dropout)          (None, 32)                0         \n",
      "_________________________________________________________________\n",
      "dense_1 (Dense)              (None, 6)                 198       \n",
      "=================================================================\n",
      "Total params: 31,558\n",
      "Trainable params: 31,558\n",
      "Non-trainable params: 0\n",
      "_________________________________________________________________\n"
     ]
    }
   ],
   "source": [
    "# Initiliazing the sequential model\n",
    "n_hidden = 64\n",
    "model = Sequential()\n",
    "# Configuring the parameters\n",
    "model.add(LSTM(n_hidden, return_sequences=True, input_shape=(timesteps, input_dim)))\n",
    "# Adding a dropout layer\n",
    "model.add(Dropout(0.75))\n",
    "model.add(LSTM(32))\n",
    "model.add(Dropout(0.75))\n",
    "# Adding a dense output layer with sigmoid activation\n",
    "model.add(Dense(n_classes, activation='sigmoid'))\n",
    "model.summary()"
   ]
  },
  {
   "cell_type": "code",
   "execution_count": 0,
   "metadata": {
    "colab": {},
    "colab_type": "code",
    "id": "9sa4v_SI8Dei"
   },
   "outputs": [],
   "source": [
    "# Compiling the model\n",
    "model.compile(loss='categorical_crossentropy',\n",
    "              optimizer='rmsprop',\n",
    "              metrics=['accuracy'])"
   ]
  },
  {
   "cell_type": "code",
   "execution_count": 0,
   "metadata": {
    "colab": {
     "base_uri": "https://localhost:8080/",
     "height": 1125
    },
    "colab_type": "code",
    "executionInfo": {
     "elapsed": 2055612,
     "status": "ok",
     "timestamp": 1556975715428,
     "user": {
      "displayName": "Manas Miglani",
      "photoUrl": "https://lh6.googleusercontent.com/-6D8ZdsvwF6U/AAAAAAAAAAI/AAAAAAAAA-I/1TdJIsnOQmw/s64/photo.jpg",
      "userId": "16411115226447010557"
     },
     "user_tz": -330
    },
    "id": "aE71SsDu8JVw",
    "outputId": "f4365999-1114-4941-b481-6b85631f0355"
   },
   "outputs": [
    {
     "name": "stdout",
     "output_type": "stream",
     "text": [
      "WARNING:tensorflow:From /usr/local/lib/python3.6/dist-packages/tensorflow/python/ops/math_ops.py:3066: to_int32 (from tensorflow.python.ops.math_ops) is deprecated and will be removed in a future version.\n",
      "Instructions for updating:\n",
      "Use tf.cast instead.\n",
      "Train on 7352 samples, validate on 2947 samples\n",
      "Epoch 1/30\n",
      "7352/7352 [==============================] - 71s 10ms/step - loss: 1.3424 - acc: 0.4256 - val_loss: 1.0697 - val_acc: 0.5711\n",
      "Epoch 2/30\n",
      "7352/7352 [==============================] - 68s 9ms/step - loss: 1.0095 - acc: 0.5661 - val_loss: 0.8805 - val_acc: 0.5721\n",
      "Epoch 3/30\n",
      "7352/7352 [==============================] - 68s 9ms/step - loss: 0.8845 - acc: 0.5982 - val_loss: 0.8010 - val_acc: 0.6325\n",
      "Epoch 4/30\n",
      "7352/7352 [==============================] - 69s 9ms/step - loss: 0.8813 - acc: 0.6110 - val_loss: 0.8202 - val_acc: 0.6200\n",
      "Epoch 5/30\n",
      "7352/7352 [==============================] - 69s 9ms/step - loss: 0.7985 - acc: 0.6194 - val_loss: 0.7927 - val_acc: 0.6183\n",
      "Epoch 6/30\n",
      "7352/7352 [==============================] - 68s 9ms/step - loss: 0.7973 - acc: 0.6347 - val_loss: 0.7663 - val_acc: 0.6200\n",
      "Epoch 7/30\n",
      "7352/7352 [==============================] - 67s 9ms/step - loss: 0.7916 - acc: 0.6242 - val_loss: 0.8373 - val_acc: 0.6098\n",
      "Epoch 8/30\n",
      "7352/7352 [==============================] - 68s 9ms/step - loss: 0.7503 - acc: 0.6451 - val_loss: 0.7777 - val_acc: 0.6176\n",
      "Epoch 9/30\n",
      "7352/7352 [==============================] - 69s 9ms/step - loss: 0.8304 - acc: 0.6269 - val_loss: 0.8007 - val_acc: 0.6142\n",
      "Epoch 10/30\n",
      "7352/7352 [==============================] - 69s 9ms/step - loss: 0.7330 - acc: 0.6443 - val_loss: 0.7898 - val_acc: 0.6179\n",
      "Epoch 11/30\n",
      "7352/7352 [==============================] - 68s 9ms/step - loss: 0.7383 - acc: 0.6442 - val_loss: 0.7957 - val_acc: 0.6220\n",
      "Epoch 12/30\n",
      "7352/7352 [==============================] - 68s 9ms/step - loss: 0.7325 - acc: 0.6529 - val_loss: 0.9012 - val_acc: 0.6111\n",
      "Epoch 13/30\n",
      "7352/7352 [==============================] - 71s 10ms/step - loss: 0.7076 - acc: 0.6598 - val_loss: 0.7345 - val_acc: 0.6216\n",
      "Epoch 14/30\n",
      "7352/7352 [==============================] - 69s 9ms/step - loss: 0.6992 - acc: 0.6627 - val_loss: 0.7246 - val_acc: 0.6244\n",
      "Epoch 15/30\n",
      "7352/7352 [==============================] - 68s 9ms/step - loss: 0.6698 - acc: 0.6786 - val_loss: 0.7754 - val_acc: 0.6064\n",
      "Epoch 16/30\n",
      "7352/7352 [==============================] - 68s 9ms/step - loss: 0.6379 - acc: 0.7063 - val_loss: 0.7168 - val_acc: 0.7414\n",
      "Epoch 17/30\n",
      "7352/7352 [==============================] - 68s 9ms/step - loss: 0.5853 - acc: 0.7588 - val_loss: 0.5536 - val_acc: 0.7465\n",
      "Epoch 18/30\n",
      "7352/7352 [==============================] - 69s 9ms/step - loss: 0.5319 - acc: 0.7818 - val_loss: 0.4849 - val_acc: 0.7638\n",
      "Epoch 19/30\n",
      "7352/7352 [==============================] - 68s 9ms/step - loss: 0.4859 - acc: 0.8066 - val_loss: 0.3939 - val_acc: 0.8918\n",
      "Epoch 20/30\n",
      "7352/7352 [==============================] - 67s 9ms/step - loss: 0.4381 - acc: 0.8508 - val_loss: 0.3028 - val_acc: 0.9019\n",
      "Epoch 21/30\n",
      "7352/7352 [==============================] - 67s 9ms/step - loss: 0.3804 - acc: 0.8822 - val_loss: 0.3608 - val_acc: 0.8890\n",
      "Epoch 22/30\n",
      "7352/7352 [==============================] - 68s 9ms/step - loss: 0.4229 - acc: 0.8900 - val_loss: 0.3488 - val_acc: 0.8809\n",
      "Epoch 23/30\n",
      "7352/7352 [==============================] - 68s 9ms/step - loss: 0.3510 - acc: 0.8968 - val_loss: 0.3598 - val_acc: 0.8992\n",
      "Epoch 24/30\n",
      "7352/7352 [==============================] - 68s 9ms/step - loss: 0.3322 - acc: 0.9011 - val_loss: 0.4095 - val_acc: 0.8812\n",
      "Epoch 25/30\n",
      "7352/7352 [==============================] - 69s 9ms/step - loss: 0.3087 - acc: 0.9123 - val_loss: 0.5403 - val_acc: 0.8748\n",
      "Epoch 26/30\n",
      "7352/7352 [==============================] - 68s 9ms/step - loss: 0.3005 - acc: 0.9146 - val_loss: 0.3911 - val_acc: 0.9036\n",
      "Epoch 27/30\n",
      "7352/7352 [==============================] - 69s 9ms/step - loss: 0.2974 - acc: 0.9178 - val_loss: 0.3754 - val_acc: 0.9036\n",
      "Epoch 28/30\n",
      "7352/7352 [==============================] - 69s 9ms/step - loss: 0.2720 - acc: 0.9177 - val_loss: 0.4462 - val_acc: 0.9019\n",
      "Epoch 29/30\n",
      "7352/7352 [==============================] - 68s 9ms/step - loss: 0.2838 - acc: 0.9124 - val_loss: 0.3704 - val_acc: 0.9006\n",
      "Epoch 30/30\n",
      "7352/7352 [==============================] - 67s 9ms/step - loss: 0.2710 - acc: 0.9203 - val_loss: 0.3533 - val_acc: 0.9053\n"
     ]
    }
   ],
   "source": [
    "# Training the model\n",
    "history = model.fit(X_train,\n",
    "                    Y_train,\n",
    "                    batch_size=batch_size,\n",
    "                    validation_data=(X_test, Y_test),\n",
    "                    epochs=epochs)"
   ]
  },
  {
   "cell_type": "code",
   "execution_count": 0,
   "metadata": {
    "colab": {
     "base_uri": "https://localhost:8080/",
     "height": 725
    },
    "colab_type": "code",
    "executionInfo": {
     "elapsed": 2027689,
     "status": "ok",
     "timestamp": 1556975721491,
     "user": {
      "displayName": "Manas Miglani",
      "photoUrl": "https://lh6.googleusercontent.com/-6D8ZdsvwF6U/AAAAAAAAAAI/AAAAAAAAA-I/1TdJIsnOQmw/s64/photo.jpg",
      "userId": "16411115226447010557"
     },
     "user_tz": -330
    },
    "id": "gjzKhHof8SND",
    "outputId": "76222b38-59d9-471b-a6b4-80ff2a8c2832"
   },
   "outputs": [
    {
     "name": "stdout",
     "output_type": "stream",
     "text": [
      "2947/2947 [==============================] - 3s 939us/step\n",
      "score :\n",
      "[0.3533073152155683, 0.9053274516457415]\n",
      "\n",
      "confusion matrix : \n",
      "\n",
      "Pred                LAYING  SITTING  STANDING  WALKING  WALKING_DOWNSTAIRS  \\\n",
      "True                                                                         \n",
      "LAYING                 509        1         0        0                   0   \n",
      "SITTING                  0      404        87        0                   0   \n",
      "STANDING                 0       97       434        1                   0   \n",
      "WALKING                  0        0         0      478                   0   \n",
      "WALKING_DOWNSTAIRS       0        0         0        0                 392   \n",
      "WALKING_UPSTAIRS         0        2         0       15                   3   \n",
      "\n",
      "Pred                WALKING_UPSTAIRS  \n",
      "True                                  \n",
      "LAYING                            27  \n",
      "SITTING                            0  \n",
      "STANDING                           0  \n",
      "WALKING                           18  \n",
      "WALKING_DOWNSTAIRS                28  \n",
      "WALKING_UPSTAIRS                 451  \n",
      "\n",
      "\n",
      "Error plot :\n"
     ]
    },
    {
     "data": {
      "image/png": "[encoded data removed]",
      "text/plain": [
       "<Figure size 432x288 with 1 Axes>"
      ]
     },
     "metadata": {
      "tags": []
     },
     "output_type": "display_data"
    }
   ],
   "source": [
    "score = model.evaluate(X_test, Y_test)\n",
    "print(\"score :\")\n",
    "print(score)\n",
    "\n",
    "# Confusion Matrix\n",
    "print(\"\\nconfusion matrix : \\n\")\n",
    "print(confusion_matrix(Y_test, model.predict(X_test)))\n",
    "\n",
    "fig,ax = plt.subplots(1,1)\n",
    "ax.set_xlabel('epoch') ; ax.set_ylabel(' Crossentropy Loss')\n",
    "\n",
    "# list of epoch numbers\n",
    "x = list(range(1,epochs+1))\n",
    "\n",
    "\n",
    "vy = history.history['val_loss']\n",
    "ty = history.history['loss']\n",
    "plt_dynamic(x, vy, ty, ax)"
   ]
  },
  {
   "cell_type": "markdown",
   "metadata": {
    "colab_type": "text",
    "id": "X3-4NWwWAHo3"
   },
   "source": [
    "### MODEL 4"
   ]
  },
  {
   "cell_type": "code",
   "execution_count": 0,
   "metadata": {
    "colab": {
     "base_uri": "https://localhost:8080/",
     "height": 306
    },
    "colab_type": "code",
    "executionInfo": {
     "elapsed": 1351,
     "status": "ok",
     "timestamp": 1556979181824,
     "user": {
      "displayName": "Manas Miglani",
      "photoUrl": "https://lh6.googleusercontent.com/-6D8ZdsvwF6U/AAAAAAAAAAI/AAAAAAAAA-I/1TdJIsnOQmw/s64/photo.jpg",
      "userId": "16411115226447010557"
     },
     "user_tz": -330
    },
    "id": "W5W-7dtF8OPJ",
    "outputId": "55b6724f-4d8a-4ecf-8383-64a360b0c453"
   },
   "outputs": [
    {
     "name": "stdout",
     "output_type": "stream",
     "text": [
      "_________________________________________________________________\n",
      "Layer (type)                 Output Shape              Param #   \n",
      "=================================================================\n",
      "lstm_11 (LSTM)               (None, 128, 64)           18944     \n",
      "_________________________________________________________________\n",
      "dropout_10 (Dropout)         (None, 128, 64)           0         \n",
      "_________________________________________________________________\n",
      "lstm_12 (LSTM)               (None, 16)                5184      \n",
      "_________________________________________________________________\n",
      "dropout_11 (Dropout)         (None, 16)                0         \n",
      "_________________________________________________________________\n",
      "dense_5 (Dense)              (None, 6)                 102       \n",
      "=================================================================\n",
      "Total params: 24,230\n",
      "Trainable params: 24,230\n",
      "Non-trainable params: 0\n",
      "_________________________________________________________________\n"
     ]
    }
   ],
   "source": [
    "# Initiliazing the sequential model\n",
    "n_hidden = 64\n",
    "model = Sequential()\n",
    "# Configuring the parameters\n",
    "model.add(LSTM(n_hidden, return_sequences=True, input_shape=(timesteps, input_dim)))\n",
    "# Adding a dropout layer\n",
    "model.add(Dropout(0.7))\n",
    "model.add(LSTM(16))\n",
    "model.add(Dropout(0.7))\n",
    "# Adding a dense output layer with sigmoid activation\n",
    "model.add(Dense(n_classes, activation='sigmoid'))\n",
    "model.summary()"
   ]
  },
  {
   "cell_type": "code",
   "execution_count": 0,
   "metadata": {
    "colab": {},
    "colab_type": "code",
    "id": "7lhzO2rY8OXN"
   },
   "outputs": [],
   "source": [
    "# Compiling the model\n",
    "model.compile(loss='categorical_crossentropy',\n",
    "              optimizer='rmsprop',\n",
    "              metrics=['accuracy'])"
   ]
  },
  {
   "cell_type": "code",
   "execution_count": 0,
   "metadata": {
    "colab": {
     "base_uri": "https://localhost:8080/",
     "height": 1054
    },
    "colab_type": "code",
    "executionInfo": {
     "elapsed": 1967828,
     "status": "ok",
     "timestamp": 1556981154070,
     "user": {
      "displayName": "Manas Miglani",
      "photoUrl": "https://lh6.googleusercontent.com/-6D8ZdsvwF6U/AAAAAAAAAAI/AAAAAAAAA-I/1TdJIsnOQmw/s64/photo.jpg",
      "userId": "16411115226447010557"
     },
     "user_tz": -330
    },
    "id": "pFQr8wdN8Od7",
    "outputId": "6423a90c-dcae-463a-e4f2-bee7e4dc4a23"
   },
   "outputs": [
    {
     "name": "stdout",
     "output_type": "stream",
     "text": [
      "Train on 7352 samples, validate on 2947 samples\n",
      "Epoch 1/30\n",
      "7352/7352 [==============================] - 70s 9ms/step - loss: 1.4278 - acc: 0.4264 - val_loss: 1.6103 - val_acc: 0.3098\n",
      "Epoch 2/30\n",
      "7352/7352 [==============================] - 66s 9ms/step - loss: 1.1181 - acc: 0.4936 - val_loss: 0.9450 - val_acc: 0.5059\n",
      "Epoch 3/30\n",
      "7352/7352 [==============================] - 65s 9ms/step - loss: 1.1362 - acc: 0.4736 - val_loss: 0.8305 - val_acc: 0.5769\n",
      "Epoch 4/30\n",
      "7352/7352 [==============================] - 65s 9ms/step - loss: 0.9416 - acc: 0.5208 - val_loss: 0.7901 - val_acc: 0.5931\n",
      "Epoch 5/30\n",
      "7352/7352 [==============================] - 65s 9ms/step - loss: 0.9101 - acc: 0.5452 - val_loss: 0.7962 - val_acc: 0.5877\n",
      "Epoch 6/30\n",
      "7352/7352 [==============================] - 66s 9ms/step - loss: 0.8718 - acc: 0.5521 - val_loss: 0.8544 - val_acc: 0.5545\n",
      "Epoch 7/30\n",
      "7352/7352 [==============================] - 65s 9ms/step - loss: 0.8729 - acc: 0.5597 - val_loss: 0.7735 - val_acc: 0.6240\n",
      "Epoch 8/30\n",
      "7352/7352 [==============================] - 65s 9ms/step - loss: 0.9008 - acc: 0.5626 - val_loss: 0.8080 - val_acc: 0.5901\n",
      "Epoch 9/30\n",
      "7352/7352 [==============================] - 65s 9ms/step - loss: 0.9112 - acc: 0.5605 - val_loss: 0.7722 - val_acc: 0.6237\n",
      "Epoch 10/30\n",
      "7352/7352 [==============================] - 65s 9ms/step - loss: 0.8741 - acc: 0.5550 - val_loss: 0.8502 - val_acc: 0.5979\n",
      "Epoch 11/30\n",
      "7352/7352 [==============================] - 66s 9ms/step - loss: 0.8187 - acc: 0.5570 - val_loss: 0.8111 - val_acc: 0.6166\n",
      "Epoch 12/30\n",
      "7352/7352 [==============================] - 66s 9ms/step - loss: 0.8086 - acc: 0.5635 - val_loss: 0.7220 - val_acc: 0.6328\n",
      "Epoch 13/30\n",
      "7352/7352 [==============================] - 65s 9ms/step - loss: 0.9288 - acc: 0.5628 - val_loss: 2.2686 - val_acc: 0.3990\n",
      "Epoch 14/30\n",
      "7352/7352 [==============================] - 65s 9ms/step - loss: 1.3579 - acc: 0.5317 - val_loss: 0.8279 - val_acc: 0.6155\n",
      "Epoch 15/30\n",
      "7352/7352 [==============================] - 66s 9ms/step - loss: 0.8121 - acc: 0.5861 - val_loss: 0.8739 - val_acc: 0.6186\n",
      "Epoch 16/30\n",
      "7352/7352 [==============================] - 66s 9ms/step - loss: 0.7950 - acc: 0.5997 - val_loss: 0.7286 - val_acc: 0.6301\n",
      "Epoch 17/30\n",
      "7352/7352 [==============================] - 65s 9ms/step - loss: 0.7777 - acc: 0.6152 - val_loss: 0.7315 - val_acc: 0.6271\n",
      "Epoch 18/30\n",
      "7352/7352 [==============================] - 65s 9ms/step - loss: 0.7682 - acc: 0.6285 - val_loss: 0.6812 - val_acc: 0.6359\n",
      "Epoch 19/30\n",
      "7352/7352 [==============================] - 64s 9ms/step - loss: 0.7929 - acc: 0.6235 - val_loss: 0.6697 - val_acc: 0.6203\n",
      "Epoch 20/30\n",
      "7352/7352 [==============================] - 66s 9ms/step - loss: 0.7797 - acc: 0.6243 - val_loss: 0.6055 - val_acc: 0.6352\n",
      "Epoch 21/30\n",
      "7352/7352 [==============================] - 65s 9ms/step - loss: 0.7266 - acc: 0.6325 - val_loss: 0.6200 - val_acc: 0.6301\n",
      "Epoch 22/30\n",
      "7352/7352 [==============================] - 65s 9ms/step - loss: 0.6996 - acc: 0.6506 - val_loss: 0.7533 - val_acc: 0.6176\n",
      "Epoch 23/30\n",
      "7352/7352 [==============================] - 65s 9ms/step - loss: 0.6873 - acc: 0.6672 - val_loss: 0.6562 - val_acc: 0.6291\n",
      "Epoch 24/30\n",
      "7352/7352 [==============================] - 65s 9ms/step - loss: 0.6611 - acc: 0.6991 - val_loss: 0.5666 - val_acc: 0.7672\n",
      "Epoch 25/30\n",
      "7352/7352 [==============================] - 66s 9ms/step - loss: 0.6670 - acc: 0.7187 - val_loss: 0.6165 - val_acc: 0.7553\n",
      "Epoch 26/30\n",
      "7352/7352 [==============================] - 65s 9ms/step - loss: 0.6307 - acc: 0.7380 - val_loss: 0.5889 - val_acc: 0.7503\n",
      "Epoch 27/30\n",
      "7352/7352 [==============================] - 65s 9ms/step - loss: 0.6048 - acc: 0.7420 - val_loss: 0.6365 - val_acc: 0.7496\n",
      "Epoch 28/30\n",
      "7352/7352 [==============================] - 65s 9ms/step - loss: 0.6018 - acc: 0.7391 - val_loss: 0.6222 - val_acc: 0.7523\n",
      "Epoch 29/30\n",
      "7352/7352 [==============================] - 65s 9ms/step - loss: 0.5812 - acc: 0.7488 - val_loss: 0.5749 - val_acc: 0.7594\n",
      "Epoch 30/30\n",
      "7352/7352 [==============================] - 66s 9ms/step - loss: 0.5784 - acc: 0.7545 - val_loss: 0.5621 - val_acc: 0.7570\n"
     ]
    }
   ],
   "source": [
    "# Training the model\n",
    "history = model.fit(X_train,\n",
    "                    Y_train,\n",
    "                    batch_size=batch_size,\n",
    "                    validation_data=(X_test, Y_test),\n",
    "                    epochs=epochs)"
   ]
  },
  {
   "cell_type": "code",
   "execution_count": 0,
   "metadata": {
    "colab": {
     "base_uri": "https://localhost:8080/",
     "height": 725
    },
    "colab_type": "code",
    "executionInfo": {
     "elapsed": 7308,
     "status": "ok",
     "timestamp": 1556981197445,
     "user": {
      "displayName": "Manas Miglani",
      "photoUrl": "https://lh6.googleusercontent.com/-6D8ZdsvwF6U/AAAAAAAAAAI/AAAAAAAAA-I/1TdJIsnOQmw/s64/photo.jpg",
      "userId": "16411115226447010557"
     },
     "user_tz": -330
    },
    "id": "HsW2cVMF_zfV",
    "outputId": "df8e01bc-d3ae-4c8b-8754-93b69f3cb0b7"
   },
   "outputs": [
    {
     "name": "stdout",
     "output_type": "stream",
     "text": [
      "2947/2947 [==============================] - 3s 878us/step\n",
      "score :\n",
      "[0.5620518186318296, 0.7570410587037666]\n",
      "\n",
      "confusion matrix : \n",
      "\n",
      "Pred                LAYING  SITTING  STANDING  WALKING  WALKING_DOWNSTAIRS  \\\n",
      "True                                                                         \n",
      "LAYING                 510        0        27        0                   0   \n",
      "SITTING                  0      372       118        0                   1   \n",
      "STANDING                 0       86       445        1                   0   \n",
      "WALKING                  0        0         0      495                   1   \n",
      "WALKING_DOWNSTAIRS       0        0         0       13                 407   \n",
      "WALKING_UPSTAIRS         0        4         6      451                   8   \n",
      "\n",
      "Pred                WALKING_UPSTAIRS  \n",
      "True                                  \n",
      "LAYING                             0  \n",
      "SITTING                            0  \n",
      "STANDING                           0  \n",
      "WALKING                            0  \n",
      "WALKING_DOWNSTAIRS                 0  \n",
      "WALKING_UPSTAIRS                   2  \n",
      "\n",
      "\n",
      "Error plot :\n"
     ]
    },
    {
     "data": {
      "image/png": "[encoded data removed]",
      "text/plain": [
       "<Figure size 432x288 with 1 Axes>"
      ]
     },
     "metadata": {
      "tags": []
     },
     "output_type": "display_data"
    }
   ],
   "source": [
    "score = model.evaluate(X_test, Y_test)\n",
    "print(\"score :\")\n",
    "print(score)\n",
    "\n",
    "# Confusion Matrix\n",
    "print(\"\\nconfusion matrix : \\n\")\n",
    "print(confusion_matrix(Y_test, model.predict(X_test)))\n",
    "\n",
    "fig,ax = plt.subplots(1,1)\n",
    "ax.set_xlabel('epoch') ; ax.set_ylabel(' Crossentropy Loss')\n",
    "\n",
    "# list of epoch numbers\n",
    "x = list(range(1,epochs+1))\n",
    "\n",
    "\n",
    "vy = history.history['val_loss']\n",
    "ty = history.history['loss']\n",
    "plt_dynamic(x, vy, ty, ax)"
   ]
  },
  {
   "cell_type": "markdown",
   "metadata": {
    "colab_type": "text",
    "id": "87NMXjc-ruGt"
   },
   "source": [
    "### MODEL 5"
   ]
  },
  {
   "cell_type": "code",
   "execution_count": 0,
   "metadata": {
    "colab": {
     "base_uri": "https://localhost:8080/",
     "height": 340
    },
    "colab_type": "code",
    "executionInfo": {
     "elapsed": 1457,
     "status": "ok",
     "timestamp": 1556985186370,
     "user": {
      "displayName": "Manas Miglani",
      "photoUrl": "https://lh6.googleusercontent.com/-6D8ZdsvwF6U/AAAAAAAAAAI/AAAAAAAAA-I/1TdJIsnOQmw/s64/photo.jpg",
      "userId": "16411115226447010557"
     },
     "user_tz": -330
    },
    "id": "psi1R4xWTtHr",
    "outputId": "d694ce3c-cf88-4d58-c836-fab1390111a3"
   },
   "outputs": [
    {
     "name": "stdout",
     "output_type": "stream",
     "text": [
      "_________________________________________________________________\n",
      "Layer (type)                 Output Shape              Param #   \n",
      "=================================================================\n",
      "lstm_18 (LSTM)               (None, 128, 64)           18944     \n",
      "_________________________________________________________________\n",
      "batch_normalization_5 (Batch (None, 128, 64)           256       \n",
      "_________________________________________________________________\n",
      "dropout_16 (Dropout)         (None, 128, 64)           0         \n",
      "_________________________________________________________________\n",
      "lstm_19 (LSTM)               (None, 32)                12416     \n",
      "_________________________________________________________________\n",
      "dropout_17 (Dropout)         (None, 32)                0         \n",
      "_________________________________________________________________\n",
      "dense_8 (Dense)              (None, 6)                 198       \n",
      "=================================================================\n",
      "Total params: 31,814\n",
      "Trainable params: 31,686\n",
      "Non-trainable params: 128\n",
      "_________________________________________________________________\n"
     ]
    }
   ],
   "source": [
    "# Initiliazing the sequential model\n",
    "n_hidden = 64\n",
    "model = Sequential()\n",
    "# Configuring the parameters\n",
    "model.add(LSTM(n_hidden, return_sequences=True, input_shape=(timesteps, input_dim)))\n",
    "# Adding a dropout layer\n",
    "model.add(BatchNormalization())\n",
    "model.add(Dropout(0.5))\n",
    "model.add(LSTM(32))\n",
    "model.add(Dropout(0.5))\n",
    "# Adding a dense output layer with sigmoid activation\n",
    "model.add(Dense(n_classes, activation='sigmoid'))\n",
    "model.summary()"
   ]
  },
  {
   "cell_type": "code",
   "execution_count": 0,
   "metadata": {
    "colab": {},
    "colab_type": "code",
    "id": "orH_joPoTxAQ"
   },
   "outputs": [],
   "source": [
    "# Compiling the model\n",
    "model.compile(loss='categorical_crossentropy',\n",
    "              optimizer='rmsprop',\n",
    "              metrics=['accuracy'])"
   ]
  },
  {
   "cell_type": "code",
   "execution_count": 0,
   "metadata": {
    "colab": {
     "base_uri": "https://localhost:8080/",
     "height": 1054
    },
    "colab_type": "code",
    "executionInfo": {
     "elapsed": 2171687,
     "status": "ok",
     "timestamp": 1556987366108,
     "user": {
      "displayName": "Manas Miglani",
      "photoUrl": "https://lh6.googleusercontent.com/-6D8ZdsvwF6U/AAAAAAAAAAI/AAAAAAAAA-I/1TdJIsnOQmw/s64/photo.jpg",
      "userId": "16411115226447010557"
     },
     "user_tz": -330
    },
    "id": "sVYE7gBeT2Gt",
    "outputId": "1290da20-f27a-49ae-cf20-644978eb085b"
   },
   "outputs": [
    {
     "name": "stdout",
     "output_type": "stream",
     "text": [
      "Train on 7352 samples, validate on 2947 samples\n",
      "Epoch 1/30\n",
      "7352/7352 [==============================] - 76s 10ms/step - loss: 1.0221 - acc: 0.6075 - val_loss: 0.9786 - val_acc: 0.5368\n",
      "Epoch 2/30\n",
      "7352/7352 [==============================] - 72s 10ms/step - loss: 0.6885 - acc: 0.7349 - val_loss: 0.6770 - val_acc: 0.6610\n",
      "Epoch 3/30\n",
      "7352/7352 [==============================] - 73s 10ms/step - loss: 0.4560 - acc: 0.8697 - val_loss: 0.3667 - val_acc: 0.8660\n",
      "Epoch 4/30\n",
      "7352/7352 [==============================] - 73s 10ms/step - loss: 0.3274 - acc: 0.9056 - val_loss: 0.3366 - val_acc: 0.8846\n",
      "Epoch 5/30\n",
      "7352/7352 [==============================] - 72s 10ms/step - loss: 0.2615 - acc: 0.9266 - val_loss: 0.2491 - val_acc: 0.9192\n",
      "Epoch 6/30\n",
      "7352/7352 [==============================] - 72s 10ms/step - loss: 0.2303 - acc: 0.9276 - val_loss: 0.2935 - val_acc: 0.9111\n",
      "Epoch 7/30\n",
      "7352/7352 [==============================] - 73s 10ms/step - loss: 0.2123 - acc: 0.9328 - val_loss: 0.2739 - val_acc: 0.9121\n",
      "Epoch 8/30\n",
      "7352/7352 [==============================] - 74s 10ms/step - loss: 0.1911 - acc: 0.9361 - val_loss: 0.3587 - val_acc: 0.9002\n",
      "Epoch 9/30\n",
      "7352/7352 [==============================] - 72s 10ms/step - loss: 0.1933 - acc: 0.9370 - val_loss: 0.3281 - val_acc: 0.8911\n",
      "Epoch 10/30\n",
      "7352/7352 [==============================] - 72s 10ms/step - loss: 0.1788 - acc: 0.9408 - val_loss: 0.2640 - val_acc: 0.9226\n",
      "Epoch 11/30\n",
      "7352/7352 [==============================] - 72s 10ms/step - loss: 0.1780 - acc: 0.9388 - val_loss: 0.3203 - val_acc: 0.9080\n",
      "Epoch 12/30\n",
      "7352/7352 [==============================] - 72s 10ms/step - loss: 0.1782 - acc: 0.9400 - val_loss: 0.3572 - val_acc: 0.9002\n",
      "Epoch 13/30\n",
      "7352/7352 [==============================] - 73s 10ms/step - loss: 0.1601 - acc: 0.9464 - val_loss: 0.4001 - val_acc: 0.9108\n",
      "Epoch 14/30\n",
      "7352/7352 [==============================] - 72s 10ms/step - loss: 0.1700 - acc: 0.9407 - val_loss: 0.2814 - val_acc: 0.9165\n",
      "Epoch 15/30\n",
      "7352/7352 [==============================] - 73s 10ms/step - loss: 0.1798 - acc: 0.9429 - val_loss: 0.2984 - val_acc: 0.9175\n",
      "Epoch 16/30\n",
      "7352/7352 [==============================] - 72s 10ms/step - loss: 0.1569 - acc: 0.9459 - val_loss: 0.3524 - val_acc: 0.9060\n",
      "Epoch 17/30\n",
      "7352/7352 [==============================] - 73s 10ms/step - loss: 0.1445 - acc: 0.9476 - val_loss: 0.3638 - val_acc: 0.9145\n",
      "Epoch 18/30\n",
      "7352/7352 [==============================] - 71s 10ms/step - loss: 0.1599 - acc: 0.9470 - val_loss: 0.4627 - val_acc: 0.8931\n",
      "Epoch 19/30\n",
      "7352/7352 [==============================] - 72s 10ms/step - loss: 0.1541 - acc: 0.9493 - val_loss: 0.2668 - val_acc: 0.9301\n",
      "Epoch 20/30\n",
      "7352/7352 [==============================] - 73s 10ms/step - loss: 0.1560 - acc: 0.9457 - val_loss: 0.3805 - val_acc: 0.9141\n",
      "Epoch 21/30\n",
      "7352/7352 [==============================] - 72s 10ms/step - loss: 0.1511 - acc: 0.9504 - val_loss: 0.3068 - val_acc: 0.9175\n",
      "Epoch 22/30\n",
      "7352/7352 [==============================] - 72s 10ms/step - loss: 0.1502 - acc: 0.9445 - val_loss: 0.3229 - val_acc: 0.9196\n",
      "Epoch 23/30\n",
      "7352/7352 [==============================] - 71s 10ms/step - loss: 0.1471 - acc: 0.9509 - val_loss: 0.4552 - val_acc: 0.9148\n",
      "Epoch 24/30\n",
      "7352/7352 [==============================] - 72s 10ms/step - loss: 0.1408 - acc: 0.9528 - val_loss: 0.3005 - val_acc: 0.9165\n",
      "Epoch 25/30\n",
      "7352/7352 [==============================] - 72s 10ms/step - loss: 0.1471 - acc: 0.9465 - val_loss: 0.3670 - val_acc: 0.9189\n",
      "Epoch 26/30\n",
      "7352/7352 [==============================] - 72s 10ms/step - loss: 0.1484 - acc: 0.9501 - val_loss: 0.3975 - val_acc: 0.9077\n",
      "Epoch 27/30\n",
      "7352/7352 [==============================] - 71s 10ms/step - loss: 0.1691 - acc: 0.9483 - val_loss: 0.3657 - val_acc: 0.9220\n",
      "Epoch 28/30\n",
      "7352/7352 [==============================] - 72s 10ms/step - loss: 0.1729 - acc: 0.9482 - val_loss: 0.5363 - val_acc: 0.8999\n",
      "Epoch 29/30\n",
      "7352/7352 [==============================] - 72s 10ms/step - loss: 0.1648 - acc: 0.9445 - val_loss: 0.4431 - val_acc: 0.9097\n",
      "Epoch 30/30\n",
      "7352/7352 [==============================] - 72s 10ms/step - loss: 0.1475 - acc: 0.9483 - val_loss: 0.2779 - val_acc: 0.9152\n"
     ]
    }
   ],
   "source": [
    "# Training the model\n",
    "history = model.fit(X_train,\n",
    "                    Y_train,\n",
    "                    batch_size=batch_size,\n",
    "                    validation_data=(X_test, Y_test),\n",
    "                    epochs=epochs)"
   ]
  },
  {
   "cell_type": "code",
   "execution_count": 0,
   "metadata": {
    "colab": {
     "base_uri": "https://localhost:8080/",
     "height": 725
    },
    "colab_type": "code",
    "executionInfo": {
     "elapsed": 8777,
     "status": "ok",
     "timestamp": 1556987382729,
     "user": {
      "displayName": "Manas Miglani",
      "photoUrl": "https://lh6.googleusercontent.com/-6D8ZdsvwF6U/AAAAAAAAAAI/AAAAAAAAA-I/1TdJIsnOQmw/s64/photo.jpg",
      "userId": "16411115226447010557"
     },
     "user_tz": -330
    },
    "id": "9JcR2pdlU4Vv",
    "outputId": "b3281717-396e-4c65-8d65-66cdb709fff7"
   },
   "outputs": [
    {
     "name": "stdout",
     "output_type": "stream",
     "text": [
      "2947/2947 [==============================] - 3s 1ms/step\n",
      "score :\n",
      "[0.27789034991822054, 0.9151679674244995]\n",
      "\n",
      "confusion matrix : \n",
      "\n",
      "Pred                LAYING  SITTING  STANDING  WALKING  WALKING_DOWNSTAIRS  \\\n",
      "True                                                                         \n",
      "LAYING                 537        0         0        0                   0   \n",
      "SITTING                  6      422        62        0                   0   \n",
      "STANDING                 0      134       398        0                   0   \n",
      "WALKING                  0        0         0      490                   6   \n",
      "WALKING_DOWNSTAIRS       0        0         0        0                 417   \n",
      "WALKING_UPSTAIRS         1       11         1        6                  19   \n",
      "\n",
      "Pred                WALKING_UPSTAIRS  \n",
      "True                                  \n",
      "LAYING                             0  \n",
      "SITTING                            1  \n",
      "STANDING                           0  \n",
      "WALKING                            0  \n",
      "WALKING_DOWNSTAIRS                 3  \n",
      "WALKING_UPSTAIRS                 433  \n",
      "\n",
      "\n",
      "Error plot :\n"
     ]
    },
    {
     "data": {
      "image/png": "[encoded data removed]",
      "text/plain": [
       "<Figure size 432x288 with 1 Axes>"
      ]
     },
     "metadata": {
      "tags": []
     },
     "output_type": "display_data"
    }
   ],
   "source": [
    "score = model.evaluate(X_test, Y_test)\n",
    "print(\"score :\")\n",
    "print(score)\n",
    "\n",
    "# Confusion Matrix\n",
    "print(\"\\nconfusion matrix : \\n\")\n",
    "print(confusion_matrix(Y_test, model.predict(X_test)))\n",
    "\n",
    "fig,ax = plt.subplots(1,1)\n",
    "ax.set_xlabel('epoch') ; ax.set_ylabel(' Crossentropy Loss')\n",
    "\n",
    "# list of epoch numbers\n",
    "x = list(range(1,epochs+1))\n",
    "\n",
    "\n",
    "vy = history.history['val_loss']\n",
    "ty = history.history['loss']\n",
    "plt_dynamic(x, vy, ty, ax)"
   ]
  },
  {
   "cell_type": "code",
   "execution_count": 0,
   "metadata": {
    "colab": {},
    "colab_type": "code",
    "id": "aiFfwHvkgIB-"
   },
   "outputs": [],
   "source": [
    "from prettytable import PrettyTable"
   ]
  },
  {
   "cell_type": "code",
   "execution_count": 28,
   "metadata": {
    "colab": {
     "base_uri": "https://localhost:8080/",
     "height": 187
    },
    "colab_type": "code",
    "executionInfo": {
     "elapsed": 938,
     "status": "ok",
     "timestamp": 1557473053560,
     "user": {
      "displayName": "Manas Miglani",
      "photoUrl": "https://lh6.googleusercontent.com/-6D8ZdsvwF6U/AAAAAAAAAAI/AAAAAAAAA-I/1TdJIsnOQmw/s64/photo.jpg",
      "userId": "16411115226447010557"
     },
     "user_tz": -330
    },
    "id": "b-cqRZCNgnb1",
    "outputId": "938737de-b354-4e81-ef75-39dfc368c1f4"
   },
   "outputs": [
    {
     "name": "stdout",
     "output_type": "stream",
     "text": [
      "Model Comparison\n",
      "+-------+-----------------+---------+--------------+-------+\n",
      "| Model |   Architecture  | Dropout | accuracy (%) |  loss |\n",
      "+-------+-----------------+---------+--------------+-------+\n",
      "|   1   |     16-D-FC     |   0.5   |    80.42     | 0.635 |\n",
      "|   2   |     64-D-FC     |   0.5   |    89.61     | 0.456 |\n",
      "|   3   |   64-D-32-D-FC  |   0.75  |    90.53     | 0.353 |\n",
      "|   4   |   64-D-16-D-FC  |   0.7   |     75.7     | 0.562 |\n",
      "|   5   | 64-BN-D-32-D-FC |   0.5   |    91.52     | 0.277 |\n",
      "+-------+-----------------+---------+--------------+-------+\n"
     ]
    }
   ],
   "source": [
    "x = PrettyTable()\n",
    "x.field_names = [\"Model\",\"Architecture\",\"Dropout\", \"accuracy (%)\",\"loss\"]\n",
    "x.add_row([\"1\",\"16-D-FC\", 0.5, 80.42, 0.635])\n",
    "x.add_row([\"2\",\"64-D-FC\",0.5, 89.61, 0.456])\n",
    "x.add_row([\"3\",\"64-D-32-D-FC\", 0.75, 90.53, 0.353])\n",
    "x.add_row([\"4\",\"64-D-16-D-FC\",0.7, 75.70, 0.562])\n",
    "x.add_row([\"5\",\"64-BN-D-32-D-FC\",0.5, 91.52, 0.277])\n",
    "print('Model Comparison')\n",
    "print(x)"
   ]
  },
  {
   "cell_type": "markdown",
   "metadata": {
    "colab_type": "text",
    "id": "RxSANJvKsknB"
   },
   "source": [
    "- With a 2 layer architecture we got 91.52% accuracy and a loss of 0.277\n",
    "- deep learning allow us to built sensible models without expert knowledge\n",
    "\n",
    "### Step Followed :\n",
    "- Obtain train and test data.\n",
    "- Perform data cleaning(checking duplicates and nan values)\n",
    "- Perform EDA on data.\n",
    "- Plot plots histogram etc also 2D plots help of T-sne.\n",
    "- Define utility functions\n",
    "- Train linear models with expert features.\n",
    "- Compare performance of linear models\n",
    "- Train various deep learning LSTM models and compare them."
   ]
  }
 ],
 "metadata": {
  "accelerator": "TPU",
  "colab": {
   "collapsed_sections": [],
   "name": "HAR_LSTM.ipynb",
   "provenance": [],
   "version": "0.3.2"
  },
  "kernelspec": {
   "display_name": "Python 3",
   "language": "python",
   "name": "python3"
  },
  "language_info": {
   "codemirror_mode": {
    "name": "ipython",
    "version": 3
   },
   "file_extension": ".py",
   "mimetype": "text/x-python",
   "name": "python",
   "nbconvert_exporter": "python",
   "pygments_lexer": "ipython3",
   "version": "3.6.4"
  }
 },
 "nbformat": 4,
 "nbformat_minor": 1
}
